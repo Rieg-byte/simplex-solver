{
 "cells": [
  {
   "cell_type": "markdown",
   "source": [
    "# Симплекс метод"
   ],
   "metadata": {
    "collapsed": false
   }
  },
  {
   "cell_type": "code",
   "execution_count": 1,
   "outputs": [],
   "source": [
    "data class Constraint(\n",
    "    val coefficients: List<Double>,\n",
    "    val sign: Sign,\n",
    "    val b: Double\n",
    ")\n",
    "\n",
    "enum class Sign {\n",
    "    EQ, LE, GE\n",
    "}"
   ],
   "metadata": {
    "collapsed": false,
    "ExecuteTime": {
     "end_time": "2024-04-01T17:47:23.634452100Z",
     "start_time": "2024-04-01T17:47:22.918829800Z"
    }
   }
  },
  {
   "cell_type": "code",
   "execution_count": 2,
   "outputs": [],
   "source": [
    "data class ObjectiveFunction(\n",
    "    val coefficients: List<Double>,\n",
    "    val goal: Goal\n",
    ")\n",
    "\n",
    "enum class Goal {\n",
    "    MAX, MIN\n",
    "}\n"
   ],
   "metadata": {
    "collapsed": false,
    "ExecuteTime": {
     "end_time": "2024-04-01T17:47:25.007986300Z",
     "start_time": "2024-04-01T17:47:24.776105800Z"
    }
   }
  },
  {
   "cell_type": "code",
   "execution_count": 3,
   "outputs": [],
   "source": [
    "enum class TableauResult(val text: String) {\n",
    "    OPTIMAL(\"Решение оптимальное\"),\n",
    "    NOT_OPTIMAL(\"Решение не оптимальное\"),\n",
    "    UNBOUNDED(\"Функция неограничена\"),\n",
    "    NO_SOLUTION(\"Система не имеет решения\"),\n",
    "    NEGATIVE_B(\"В таблице есть отрицательные свободные коэффициенты\"),\n",
    "}"
   ],
   "metadata": {
    "collapsed": false,
    "ExecuteTime": {
     "end_time": "2024-04-01T17:47:27.431657900Z",
     "start_time": "2024-04-01T17:47:27.273612200Z"
    }
   }
  },
  {
   "cell_type": "code",
   "execution_count": 4,
   "outputs": [],
   "source": [
    "data class PivotElement(\n",
    "    val row: Int,\n",
    "    val col: Int\n",
    ")"
   ],
   "metadata": {
    "collapsed": false,
    "ExecuteTime": {
     "end_time": "2024-04-01T17:47:28.306797400Z",
     "start_time": "2024-04-01T17:47:28.075799600Z"
    }
   }
  },
  {
   "cell_type": "code",
   "execution_count": 5,
   "outputs": [],
   "source": [
    "data class Answer(\n",
    "    val vars: List<Double>,\n",
    "    val f: Double\n",
    ")"
   ],
   "metadata": {
    "collapsed": false,
    "ExecuteTime": {
     "end_time": "2024-04-01T17:47:29.642377300Z",
     "start_time": "2024-04-01T17:47:29.504819300Z"
    }
   }
  },
  {
   "cell_type": "code",
   "execution_count": 6,
   "outputs": [],
   "source": [
    "data class SimplexTableau(\n",
    "    val tableau: List<List<Double>>,\n",
    "    val basis: List<Int>,\n",
    "    val pivotElement: PivotElement? = null,\n",
    "    val tableauState: TableauResult? = null,\n",
    "    val answer: Answer? = null\n",
    ") {\n",
    "    override fun toString() = buildString {\n",
    "        append(\"Базис\\t\")\n",
    "        for (i in 0..<tableau.first().size - 1) append(\"x${i + 1}\\t\\t\")\n",
    "        append(\"B\\n\")\n",
    "        for (i in tableau.indices) {\n",
    "            if (i < basis.size) append(\"x${basis[i]}\\t\\t\") else append(\"F\\t\\t\")\n",
    "            tableau[i].forEach { append(\"%.2f\\t\".format(it)) }\n",
    "            append(\"\\n\")\n",
    "        }\n",
    "        tableauState?.let {\n",
    "            append(tableauState.text)\n",
    "        }\n",
    "        append(\"\\n\")\n",
    "        pivotElement?.let {\n",
    "            append(\"Разрещающий элемент: [${pivotElement.col}][${pivotElement.row}]\")\n",
    "        }\n",
    "        answer?.let {\n",
    "            it.vars.forEachIndexed { i, value -> append(\"x${i + 1} = %.2f\\t\".format(value))  }\n",
    "            append(\"\\n\")\n",
    "            append(\"%.2f\".format(it.f))\n",
    "        }\n",
    "    }\n",
    "}\n"
   ],
   "metadata": {
    "collapsed": false,
    "ExecuteTime": {
     "end_time": "2024-04-01T17:47:33.476003200Z",
     "start_time": "2024-04-01T17:47:30.801961200Z"
    }
   }
  },
  {
   "cell_type": "code",
   "execution_count": 8,
   "outputs": [],
   "source": [
    "import kotlinx.coroutines.flow.Flow\n",
    "import kotlinx.coroutines.flow.flow"
   ],
   "metadata": {
    "collapsed": false,
    "ExecuteTime": {
     "end_time": "2024-04-01T17:49:01.806523600Z",
     "start_time": "2024-04-01T17:49:01.682526Z"
    }
   }
  },
  {
   "cell_type": "code",
   "execution_count": 9,
   "outputs": [],
   "source": [
    "class Simplex(\n",
    "    val objectiveFunction: ObjectiveFunction,\n",
    "    val constraints: List<Constraint>,\n",
    "    val numVars: Int\n",
    ") {\n",
    "    private val tableau: MutableList<MutableList<Double>> = mutableListOf()\n",
    "    private val basis: MutableList<Int> = MutableList(constraints.size) { 0 }\n",
    "    private val c = objectiveFunction.coefficients\n",
    "    private val goal = objectiveFunction.goal\n",
    "    private val addVars = constraints.count { it.sign != Sign.EQ }\n",
    "    private val countCol = numVars + addVars + 1\n",
    "    private val countRow = basis.size + 1\n",
    "\n",
    "    init {\n",
    "        if (!constraints.all { it.coefficients.size == numVars }) {\n",
    "            throw Exception()\n",
    "        }\n",
    "        formTableau()\n",
    "    }\n",
    "\n",
    "    private fun formTableau() {\n",
    "        convertToCanonForm()\n",
    "        formInitialBasis()\n",
    "        addRow(objectiveFunction.coefficients.map { -it }, 0.0)\n",
    "    }\n",
    "\n",
    "    /*\n",
    "    Формирование начального базиса\n",
    "     */\n",
    "    private fun formInitialBasis() {\n",
    "        var countBasisVars = 0\n",
    "        val maxCountBasisVars = basis.size\n",
    "        for (i in 0..<countCol - 1) {\n",
    "            if (countBasisVars == maxCountBasisVars) break\n",
    "            val currentCol = tableau.map { it[i] }\n",
    "            val countNonZero = currentCol.count { it != 0.0 }\n",
    "            if (countNonZero == 1) {\n",
    "                val indexRow = currentCol.indexOfFirst { it != 0.0 }\n",
    "                if (currentCol[indexRow] == 1.0) {\n",
    "                    basis[indexRow] = i + 1\n",
    "                } else {\n",
    "                    basis[indexRow] = i + 1\n",
    "                    tableau[indexRow] = tableau[indexRow].map { it / currentCol.first() }.toMutableList()\n",
    "                    println(tableau[indexRow])\n",
    "                }\n",
    "                countBasisVars++\n",
    "            }\n",
    "        }\n",
    "        for (i in 0..<countCol - 1) {\n",
    "            if (countBasisVars == maxCountBasisVars) break\n",
    "            val currentCol = tableau.map { it[i] }\n",
    "            val countNonZero = currentCol.count { it == 0.0 }\n",
    "            if (countNonZero == 0) {\n",
    "                val indexBasis = basis.indexOfFirst { it == 0 }\n",
    "                basis[indexBasis] = i + 1\n",
    "                tableau[indexBasis] = tableau[indexBasis].map { it / currentCol[indexBasis] }.toMutableList()\n",
    "                tableau.forEachIndexed { row, _ ->\n",
    "                    if (row != indexBasis) {\n",
    "                        tableau[row] = tableau[row].mapIndexed{ col, it ->\n",
    "                            it - tableau[indexBasis][col] * tableau[row][i] }.toMutableList()\n",
    "                    }\n",
    "                }\n",
    "                countBasisVars++\n",
    "            }\n",
    "        }\n",
    "    }\n",
    "\n",
    "    /*\n",
    "    Преобразование в каноническую форму\n",
    "     */\n",
    "    private fun convertToCanonForm() {\n",
    "        var indexAddVar = numVars - 1\n",
    "        var coefficients: List<Double>\n",
    "        var b: Double\n",
    "        for (constraint in constraints) {\n",
    "            when(constraint.sign) {\n",
    "                Sign.GE -> {\n",
    "                    coefficients = constraint.coefficients.map { -it }\n",
    "                    b = -constraint.b\n",
    "                    indexAddVar++\n",
    "                    addRow(coefficients, b, indexAddVar)\n",
    "                }\n",
    "                Sign.LE -> {\n",
    "                    coefficients = constraint.coefficients\n",
    "                    b = constraint.b\n",
    "                    indexAddVar++\n",
    "                    addRow(coefficients, b, indexAddVar)\n",
    "                }\n",
    "                Sign.EQ -> {\n",
    "                    coefficients = constraint.coefficients\n",
    "                    b = constraint.b\n",
    "                    addRow(coefficients, b)\n",
    "                }\n",
    "            }\n",
    "        }\n",
    "    }\n",
    "\n",
    "    /*\n",
    "    Добавление строки в таблицу\n",
    "     */\n",
    "    private fun addRow(coefficients: List<Double>, b: Double, indexAddVar: Int? = null) {\n",
    "        val row: MutableList<Double> = MutableList(countCol) { 0.0 }\n",
    "        for (i in 0..<countCol) {\n",
    "            if (i < coefficients.size) row[i] = coefficients[i]\n",
    "            else if (indexAddVar != null && i == indexAddVar) row[i] = 1.0\n",
    "            else if (i == countCol - 1) row[i] = b\n",
    "            else continue\n",
    "        }\n",
    "        tableau.add(row)\n",
    "    }\n",
    "\n",
    "    /*\n",
    "    Проверка на наличие отрицательных свободных коэффициентов (b)\n",
    "     */\n",
    "    private fun checkNegativeB(): Boolean = tableau.dropLast(1).any {it.last() < 0 }\n",
    "\n",
    "    /*\n",
    "    Перерасчёт таблицы\n",
    "     */\n",
    "    private fun recalculate(pivotElement: PivotElement) {\n",
    "        val pivotRow = pivotElement.row\n",
    "        val pivotCol = pivotElement.col\n",
    "        basis[pivotElement.row] = pivotElement.col + 1\n",
    "        for (i in 0..<countRow) {\n",
    "            for (j in 0..<countCol) {\n",
    "                if (i != pivotRow && j != pivotCol) {\n",
    "                    tableau[i][j] = tableau[i][j] - tableau[i][pivotCol] * tableau[pivotRow][j] / tableau[pivotRow][pivotCol]\n",
    "                }\n",
    "            }\n",
    "        }\n",
    "        for (j in 0..<countCol) {\n",
    "            if (j != pivotCol) {\n",
    "                tableau[pivotRow][j] = tableau[pivotRow][j] / tableau[pivotRow][pivotCol]\n",
    "            }\n",
    "        }\n",
    "        for (i in 0..<countRow) {\n",
    "            if (i != pivotRow) {\n",
    "                tableau[i][pivotCol] = 0.0\n",
    "            } else {\n",
    "                tableau[i][pivotCol] = 1.0\n",
    "            }\n",
    "        }\n",
    "    }\n",
    "\n",
    "    /*\n",
    "    Поиск разрещающего элемента\n",
    "     */\n",
    "    private fun findPivotElement(containsNegativeB: Boolean = false): PivotElement? {\n",
    "        return if (containsNegativeB) {\n",
    "            val pivotRow: Int = findPivotRow()\n",
    "            val pivotCol: Int? = findPivotCol(pivotRow)\n",
    "            pivotCol?.let { PivotElement(row = pivotRow, col = pivotCol) }\n",
    "        } else {\n",
    "            val pivotCol: Int = findPivotCol()\n",
    "            val pivotRow: Int? = findPivotRow(pivotCol)\n",
    "            pivotRow?.let { PivotElement(row = pivotRow, col = pivotCol) }\n",
    "        }\n",
    "    }\n",
    "\n",
    "    /*\n",
    "    Поиск разрещающей строки\n",
    "     */\n",
    "    private fun findPivotRow(): Int {\n",
    "        val b = tableau.dropLast(1).map { it.last() }\n",
    "        val min = b.filter { it < 0 }.min()\n",
    "        return b.indexOf(min)\n",
    "    }\n",
    "\n",
    "    private fun findPivotRow(pivotCol: Int): Int? {\n",
    "        val b = tableau.dropLast(1).map { it.last() / it[pivotCol] }\n",
    "        val min: Double? = b.filter { it > 0 }.minOrNull()\n",
    "        return min?.let { b.indexOf(min) }\n",
    "    }\n",
    "\n",
    "    /*\n",
    "    Поиск разрещающего столбца\n",
    "     */\n",
    "    private fun findPivotCol(): Int {\n",
    "        return when (goal) {\n",
    "            Goal.MAX -> {\n",
    "                val min = tableau.last().dropLast(1).filter { it < 0 }.min()\n",
    "                tableau.last().dropLast(1).indexOf(min)\n",
    "            }\n",
    "            Goal.MIN -> {\n",
    "                val max = tableau.last().dropLast(1).filter { it > 0 }.max()\n",
    "                tableau.last().dropLast(1).indexOf(max)\n",
    "            }\n",
    "        }\n",
    "    }\n",
    "\n",
    "    private fun findPivotCol(minRow: Int): Int? {\n",
    "        val b = tableau[minRow].dropLast(1)\n",
    "        val min = b.filter { it < 0 }.minOrNull()\n",
    "        return min?.let { b.indexOf(min) }\n",
    "    }\n",
    "\n",
    "    /*\n",
    "    Проверка на оптимальность\n",
    "     */\n",
    "    private fun checkOptimality(): Boolean {\n",
    "        return when (goal) {\n",
    "            Goal.MAX -> tableau.last().dropLast(1).all { it >= 0 }\n",
    "            Goal.MIN -> tableau.last().dropLast(1).all { it <= 0 }\n",
    "        }\n",
    "    }\n",
    "\n",
    "    /*\n",
    "    Получение ответа\n",
    "     */\n",
    "    private fun getAnswer(): Answer {\n",
    "        val vars: MutableList<Double> = mutableListOf()\n",
    "        val f = tableau.last().last()\n",
    "        for (i in c.indices) {\n",
    "            val x = i + 1\n",
    "            val value = if (x in basis) tableau[basis.indexOf(x)].last() else 0.0\n",
    "            vars.add(value)\n",
    "        }\n",
    "        return Answer(vars, f)\n",
    "    }\n",
    "\n",
    "    /*\n",
    "    Проверка таблицы\n",
    "     */\n",
    "    private fun checkTableau(): SimplexTableau {\n",
    "        val simplexTableau = SimplexTableau(tableau, basis)\n",
    "        if (checkNegativeB()) {\n",
    "            val pivotElement = findPivotElement(checkNegativeB())\n",
    "                ?: return simplexTableau.copy(tableauState = TableauResult.NO_SOLUTION)\n",
    "            return simplexTableau.copy(pivotElement = pivotElement, tableauState = TableauResult.NEGATIVE_B)\n",
    "        } else {\n",
    "            if (checkOptimality()) {\n",
    "                val answer = getAnswer()\n",
    "                return simplexTableau.copy(tableauState = TableauResult.OPTIMAL, answer = answer)\n",
    "            } else {\n",
    "                val pivotElement = findPivotElement()\n",
    "                    ?: return simplexTableau.copy(tableauState = TableauResult.UNBOUNDED)\n",
    "                return simplexTableau.copy(pivotElement = pivotElement, tableauState = TableauResult.NOT_OPTIMAL)\n",
    "            }\n",
    "        }\n",
    "    }\n",
    "\n",
    "    fun solve(): Flow<SimplexTableau> = flow {\n",
    "        var simplexTableau = checkTableau()\n",
    "        var simplexResult = simplexTableau.tableauState\n",
    "        emit(simplexTableau)\n",
    "        while (simplexResult == TableauResult.NOT_OPTIMAL || simplexResult == TableauResult.NEGATIVE_B) {\n",
    "            simplexTableau.pivotElement?.let { recalculate(it) }\n",
    "            simplexTableau = checkTableau()\n",
    "            simplexResult = simplexTableau.tableauState\n",
    "            emit(simplexTableau)\n",
    "        }\n",
    "    }\n",
    "}"
   ],
   "metadata": {
    "collapsed": false,
    "ExecuteTime": {
     "end_time": "2024-04-01T17:49:07.115524500Z",
     "start_time": "2024-04-01T17:49:02.627523500Z"
    }
   }
  },
  {
   "cell_type": "code",
   "execution_count": 13,
   "outputs": [],
   "source": [
    "suspend fun simplexSolve(simplex: Simplex) {\n",
    "    simplex.solve().collect{ println(it) }\n",
    "}"
   ],
   "metadata": {
    "collapsed": false,
    "ExecuteTime": {
     "end_time": "2024-04-01T17:51:50.639574200Z",
     "start_time": "2024-04-01T17:51:50.544165700Z"
    }
   }
  },
  {
   "cell_type": "code",
   "execution_count": 11,
   "outputs": [],
   "source": [
    "import kotlinx.coroutines.runBlocking"
   ],
   "metadata": {
    "collapsed": false,
    "ExecuteTime": {
     "end_time": "2024-04-01T17:51:27.768040700Z",
     "start_time": "2024-04-01T17:51:27.662039800Z"
    }
   }
  },
  {
   "cell_type": "markdown",
   "source": [
    "### Симплекс-метод: система не имеет ни одного решения\n",
    "\n",
    "![1 пример](screenshots/1.png \"1 пример\")"
   ],
   "metadata": {
    "collapsed": false
   }
  },
  {
   "cell_type": "code",
   "execution_count": 15,
   "outputs": [
    {
     "name": "stdout",
     "output_type": "stream",
     "text": [
      "Базис\tx1\t\tx2\t\tx3\t\tx4\t\tx5\t\tB\n",
      "x3\t\t2,00\t-3,00\t1,00\t0,00\t0,00\t-9,00\t\n",
      "x4\t\t-1,00\t2,00\t0,00\t1,00\t0,00\t-2,00\t\n",
      "x5\t\t1,00\t1,00\t0,00\t0,00\t1,00\t8,00\t\n",
      "F\t\t-1,00\t1,00\t0,00\t0,00\t0,00\t0,00\t\n",
      "В таблице есть отрицательные свободные коэффициенты\n",
      "Разрещающий элемент: [1][0]\r\n",
      "Базис\tx1\t\tx2\t\tx3\t\tx4\t\tx5\t\tB\n",
      "x2\t\t-0,67\t1,00\t-0,33\t-0,00\t-0,00\t3,00\t\n",
      "x4\t\t0,33\t0,00\t0,67\t1,00\t0,00\t-8,00\t\n",
      "x5\t\t1,67\t0,00\t0,33\t0,00\t1,00\t5,00\t\n",
      "F\t\t-0,33\t0,00\t0,33\t0,00\t0,00\t-3,00\t\n",
      "Система не имеет решения\n",
      "\r\n"
     ]
    }
   ],
   "source": [
    "runBlocking {\n",
    "    val objectiveFunction = ObjectiveFunction(listOf(1.0, -1.0), Goal.MAX)\n",
    "    val constraints = listOf(\n",
    "        Constraint(listOf(-2.0, 3.0), Sign.GE, 9.0),\n",
    "        Constraint(listOf(1.0, -2.0), Sign.GE, 2.0),\n",
    "        Constraint(listOf(1.0, 1.0), Sign.LE, 8.0)\n",
    "    )\n",
    "    val simplex = Simplex(\n",
    "        objectiveFunction = objectiveFunction,\n",
    "        constraints = constraints,\n",
    "        numVars = 2\n",
    "    )\n",
    "    simplexSolve(simplex)\n",
    "}"
   ],
   "metadata": {
    "collapsed": false,
    "ExecuteTime": {
     "end_time": "2024-04-01T17:53:00.253733800Z",
     "start_time": "2024-04-01T17:52:59.967735100Z"
    }
   }
  },
  {
   "cell_type": "markdown",
   "source": [
    "### Симплекс-метод: функция неограничена\n",
    "![2 пример](screenshots/2.png \"2 пример\")"
   ],
   "metadata": {
    "collapsed": false
   }
  },
  {
   "cell_type": "code",
   "execution_count": 16,
   "outputs": [
    {
     "name": "stdout",
     "output_type": "stream",
     "text": [
      "Базис\tx1\t\tx2\t\tx3\t\tx4\t\tB\n",
      "x3\t\t-2,00\t3,00\t1,00\t0,00\t9,00\t\n",
      "x4\t\t1,00\t-2,00\t0,00\t1,00\t2,00\t\n",
      "F\t\t-1,00\t-2,00\t0,00\t0,00\t0,00\t\n",
      "Решение не оптимальное\n",
      "Разрещающий элемент: [1][0]\r\n",
      "Базис\tx1\t\tx2\t\tx3\t\tx4\t\tB\n",
      "x2\t\t-0,67\t1,00\t0,33\t0,00\t3,00\t\n",
      "x4\t\t-0,33\t0,00\t0,67\t1,00\t8,00\t\n",
      "F\t\t-2,33\t0,00\t0,67\t0,00\t6,00\t\n",
      "Функция неограничена\n",
      "\r\n"
     ]
    }
   ],
   "source": [
    "runBlocking {\n",
    "    val objectiveFunction = ObjectiveFunction(listOf(1.0, 2.0), Goal.MAX)\n",
    "    val constraints = listOf(\n",
    "        Constraint(listOf(-2.0, 3.0), Sign.LE, 9.0),\n",
    "        Constraint(listOf(1.0, -2.0), Sign.LE, 2.0),\n",
    "    )\n",
    "    val simplex = Simplex(\n",
    "        objectiveFunction = objectiveFunction,\n",
    "        constraints = constraints,\n",
    "        numVars = 2\n",
    "    )\n",
    "    simplexSolve(simplex)\n",
    "}"
   ],
   "metadata": {
    "collapsed": false,
    "ExecuteTime": {
     "end_time": "2024-04-01T17:53:33.111428600Z",
     "start_time": "2024-04-01T17:53:32.871577300Z"
    }
   }
  },
  {
   "cell_type": "markdown",
   "source": [
    "### Симплекс-метод: вариант 11а\n",
    "![3 пример](screenshots/3.png \"3 пример\") ![3 пример сравнение](screenshots/3a.png \"3 пример сравнение\")"
   ],
   "metadata": {
    "collapsed": false
   }
  },
  {
   "cell_type": "code",
   "execution_count": 18,
   "outputs": [
    {
     "name": "stdout",
     "output_type": "stream",
     "text": [
      "Базис\tx1\t\tx2\t\tx3\t\tx4\t\tx5\t\tB\n",
      "x3\t\t3,00\t2,00\t1,00\t0,00\t0,00\t8,00\t\n",
      "x4\t\t1,00\t2,00\t0,00\t1,00\t0,00\t6,00\t\n",
      "x5\t\t-2,00\t-3,00\t0,00\t0,00\t1,00\t-3,00\t\n",
      "F\t\t-7,00\t-3,00\t0,00\t0,00\t0,00\t0,00\t\n",
      "В таблице есть отрицательные свободные коэффициенты\n",
      "Разрещающий элемент: [1][2]\r\n",
      "Базис\tx1\t\tx2\t\tx3\t\tx4\t\tx5\t\tB\n",
      "x3\t\t1,67\t0,00\t1,00\t0,00\t0,67\t6,00\t\n",
      "x4\t\t-0,33\t0,00\t0,00\t1,00\t0,67\t4,00\t\n",
      "x2\t\t0,67\t1,00\t-0,00\t-0,00\t-0,33\t1,00\t\n",
      "F\t\t-5,00\t0,00\t0,00\t0,00\t-1,00\t3,00\t\n",
      "Решение не оптимальное\n",
      "Разрещающий элемент: [0][2]\r\n",
      "Базис\tx1\t\tx2\t\tx3\t\tx4\t\tx5\t\tB\n",
      "x3\t\t0,00\t-2,50\t1,00\t0,00\t1,50\t3,50\t\n",
      "x4\t\t0,00\t0,50\t0,00\t1,00\t0,50\t4,50\t\n",
      "x1\t\t1,00\t1,50\t-0,00\t-0,00\t-0,50\t1,50\t\n",
      "F\t\t0,00\t7,50\t0,00\t0,00\t-3,50\t10,50\t\n",
      "Решение не оптимальное\n",
      "Разрещающий элемент: [4][0]\r\n",
      "Базис\tx1\t\tx2\t\tx3\t\tx4\t\tx5\t\tB\n",
      "x5\t\t0,00\t-1,67\t0,67\t0,00\t1,00\t2,33\t\n",
      "x4\t\t0,00\t1,33\t-0,33\t1,00\t0,00\t3,33\t\n",
      "x1\t\t1,00\t0,67\t0,33\t0,00\t0,00\t2,67\t\n",
      "F\t\t0,00\t1,67\t2,33\t0,00\t0,00\t18,67\t\n",
      "Решение оптимальное\n",
      "x1 = 2,67\tx2 = 0,00\t\n",
      "18,67\r\n"
     ]
    }
   ],
   "source": [
    "runBlocking {\n",
    "    val objectiveFunction = ObjectiveFunction(listOf(7.0, 3.0), Goal.MAX)\n",
    "    val constraints = listOf(\n",
    "        Constraint(listOf(3.0, 2.0), Sign.LE, 8.0),\n",
    "        Constraint(listOf(1.0, 2.0), Sign.LE, 6.0),\n",
    "        Constraint(listOf(2.0, 3.0), Sign.GE, 3.0)\n",
    "    )\n",
    "    val simplex = Simplex(\n",
    "        objectiveFunction = objectiveFunction,\n",
    "        constraints = constraints,\n",
    "        numVars = 2\n",
    "    )\n",
    "    simplexSolve(simplex)\n",
    "}"
   ],
   "metadata": {
    "collapsed": false,
    "ExecuteTime": {
     "end_time": "2024-04-01T17:54:31.274455500Z",
     "start_time": "2024-04-01T17:54:30.828827700Z"
    }
   }
  },
  {
   "cell_type": "markdown",
   "source": [
    "### Симплекс-метод: вариант 11б\n",
    "![4 пример](screenshots/4.png \"4 пример\") ![4 пример сравнение](screenshots/4a.png \"4 пример сравнение\")"
   ],
   "metadata": {
    "collapsed": false
   }
  },
  {
   "cell_type": "code",
   "execution_count": 19,
   "outputs": [
    {
     "name": "stdout",
     "output_type": "stream",
     "text": [
      "Базис\tx1\t\tx2\t\tx3\t\tx4\t\tx5\t\tB\n",
      "x3\t\t1,00\t2,00\t1,00\t0,00\t0,00\t4,00\t\n",
      "x4\t\t2,00\t1,00\t0,00\t1,00\t0,00\t6,00\t\n",
      "x5\t\t-2,00\t-1,00\t0,00\t0,00\t1,00\t-2,00\t\n",
      "F\t\t-2,00\t-1,00\t0,00\t0,00\t0,00\t0,00\t\n",
      "В таблице есть отрицательные свободные коэффициенты\n",
      "Разрещающий элемент: [0][2]\r\n",
      "Базис\tx1\t\tx2\t\tx3\t\tx4\t\tx5\t\tB\n",
      "x3\t\t0,00\t1,50\t1,00\t0,00\t0,50\t3,00\t\n",
      "x4\t\t0,00\t0,00\t0,00\t1,00\t1,00\t4,00\t\n",
      "x1\t\t1,00\t0,50\t-0,00\t-0,00\t-0,50\t1,00\t\n",
      "F\t\t0,00\t0,00\t0,00\t0,00\t-1,00\t2,00\t\n",
      "Решение оптимальное\n",
      "x1 = 1,00\tx2 = 0,00\t\n",
      "2,00\r\n"
     ]
    }
   ],
   "source": [
    "runBlocking {\n",
    "    val objectiveFunction = ObjectiveFunction(listOf(2.0, 1.0), Goal.MIN)\n",
    "    val constraints = listOf(\n",
    "        Constraint(listOf(1.0, 2.0), Sign.LE, 4.0),\n",
    "        Constraint(listOf(2.0, 1.0), Sign.LE, 6.0),\n",
    "        Constraint(listOf(2.0, 1.0), Sign.GE, 2.0)\n",
    "    )\n",
    "    val simplex = Simplex(\n",
    "        objectiveFunction = objectiveFunction,\n",
    "        constraints = constraints,\n",
    "        numVars = 2\n",
    "    )\n",
    "    simplexSolve(simplex)\n",
    "}"
   ],
   "metadata": {
    "collapsed": false,
    "ExecuteTime": {
     "end_time": "2024-04-01T17:55:30.271211800Z",
     "start_time": "2024-04-01T17:55:29.868615200Z"
    }
   }
  },
  {
   "cell_type": "markdown",
   "source": [
    "### Симплекс-метод: вариант 11в\n",
    "![5 пример](screenshots/5.png \"5 пример\") ![5 пример сравнение](screenshots/5a.png \"5 пример сравнение\")"
   ],
   "metadata": {
    "collapsed": false
   }
  },
  {
   "cell_type": "code",
   "execution_count": 21,
   "outputs": [
    {
     "name": "stdout",
     "output_type": "stream",
     "text": [
      "Базис\tx1\t\tx2\t\tx3\t\tx4\t\tx5\t\tB\n",
      "x3\t\t-1,00\t-2,00\t1,00\t0,00\t0,00\t-8,00\t\n",
      "x4\t\t-1,00\t-1,00\t0,00\t1,00\t0,00\t-16,00\t\n",
      "x5\t\t-3,00\t-1,00\t0,00\t0,00\t1,00\t-3,00\t\n",
      "F\t\t-2,00\t-8,00\t0,00\t0,00\t0,00\t0,00\t\n",
      "В таблице есть отрицательные свободные коэффициенты\n",
      "Разрещающий элемент: [0][1]\r\n",
      "Базис\tx1\t\tx2\t\tx3\t\tx4\t\tx5\t\tB\n",
      "x3\t\t0,00\t-1,00\t1,00\t-1,00\t0,00\t8,00\t\n",
      "x1\t\t1,00\t1,00\t-0,00\t-1,00\t-0,00\t16,00\t\n",
      "x5\t\t0,00\t2,00\t0,00\t-3,00\t1,00\t45,00\t\n",
      "F\t\t0,00\t-6,00\t0,00\t-2,00\t0,00\t32,00\t\n",
      "Решение не оптимальное\n",
      "Разрещающий элемент: [1][1]\r\n",
      "Базис\tx1\t\tx2\t\tx3\t\tx4\t\tx5\t\tB\n",
      "x3\t\t1,00\t0,00\t1,00\t-2,00\t0,00\t24,00\t\n",
      "x2\t\t1,00\t1,00\t-0,00\t-1,00\t-0,00\t16,00\t\n",
      "x5\t\t-2,00\t0,00\t0,00\t-1,00\t1,00\t13,00\t\n",
      "F\t\t6,00\t0,00\t0,00\t-8,00\t0,00\t128,00\t\n",
      "Функция неограничена\n",
      "\r\n"
     ]
    }
   ],
   "source": [
    "runBlocking {\n",
    "    val objectiveFunction = ObjectiveFunction(listOf(2.0, 8.0), Goal.MAX)\n",
    "    val constraints = listOf(\n",
    "        Constraint(listOf(1.0, 2.0), Sign.GE, 8.0),\n",
    "        Constraint(listOf(1.0, 1.0), Sign.GE, 16.0),\n",
    "        Constraint(listOf(3.0, 1.0), Sign.GE, 3.0)\n",
    "    )\n",
    "    val simplex = Simplex(\n",
    "        objectiveFunction = objectiveFunction,\n",
    "        constraints = constraints,\n",
    "        numVars = 2\n",
    "    )\n",
    "    simplexSolve(simplex)\n",
    "}"
   ],
   "metadata": {
    "collapsed": false,
    "ExecuteTime": {
     "end_time": "2024-04-01T17:56:54.575659700Z",
     "start_time": "2024-04-01T17:56:54.311871700Z"
    }
   }
  },
  {
   "cell_type": "markdown",
   "source": [
    "### Симплекс-метод: вариант 11г\n",
    "![6 пример](screenshots/6.png \"6 пример\") ![6 пример сравнение](screenshots/6a.png \"6 пример сравнение\")"
   ],
   "metadata": {
    "collapsed": false
   }
  },
  {
   "cell_type": "code",
   "execution_count": 22,
   "outputs": [
    {
     "name": "stdout",
     "output_type": "stream",
     "text": [
      "Базис\tx1\t\tx2\t\tx3\t\tx4\t\tx5\t\tB\n",
      "x3\t\t6,00\t2,00\t1,00\t0,00\t0,00\t8,00\t\n",
      "x4\t\t1,00\t3,00\t0,00\t1,00\t0,00\t6,00\t\n",
      "x5\t\t-1,00\t-1,00\t0,00\t0,00\t1,00\t-16,00\t\n",
      "F\t\t-6,00\t-2,00\t0,00\t0,00\t0,00\t0,00\t\n",
      "В таблице есть отрицательные свободные коэффициенты\n",
      "Разрещающий элемент: [0][2]\r\n",
      "Базис\tx1\t\tx2\t\tx3\t\tx4\t\tx5\t\tB\n",
      "x3\t\t0,00\t-4,00\t1,00\t0,00\t6,00\t-88,00\t\n",
      "x4\t\t0,00\t2,00\t0,00\t1,00\t1,00\t-10,00\t\n",
      "x1\t\t1,00\t1,00\t-0,00\t-0,00\t-1,00\t16,00\t\n",
      "F\t\t0,00\t4,00\t0,00\t0,00\t-6,00\t96,00\t\n",
      "В таблице есть отрицательные свободные коэффициенты\n",
      "Разрещающий элемент: [1][0]\r\n",
      "Базис\tx1\t\tx2\t\tx3\t\tx4\t\tx5\t\tB\n",
      "x2\t\t-0,00\t1,00\t-0,25\t-0,00\t-1,50\t22,00\t\n",
      "x4\t\t0,00\t0,00\t0,50\t1,00\t4,00\t-54,00\t\n",
      "x1\t\t1,00\t0,00\t0,25\t0,00\t0,50\t-6,00\t\n",
      "F\t\t0,00\t0,00\t1,00\t0,00\t0,00\t8,00\t\n",
      "Система не имеет решения\n",
      "\r\n"
     ]
    }
   ],
   "source": [
    "runBlocking {\n",
    "    val objectiveFunction = ObjectiveFunction(listOf(6.0, 2.0), Goal.MIN)\n",
    "    val constraints = listOf(\n",
    "        Constraint(listOf(6.0, 2.0), Sign.LE, 8.0),\n",
    "        Constraint(listOf(1.0, 3.0), Sign.LE, 6.0),\n",
    "        Constraint(listOf(1.0, 1.0), Sign.GE, 16.0)\n",
    "    )\n",
    "    val simplex = Simplex(\n",
    "        objectiveFunction = objectiveFunction,\n",
    "        constraints = constraints,\n",
    "        numVars = 2\n",
    "    )\n",
    "    simplexSolve(simplex)\n",
    "}"
   ],
   "metadata": {
    "collapsed": false,
    "ExecuteTime": {
     "end_time": "2024-04-01T17:57:38.784480100Z",
     "start_time": "2024-04-01T17:57:38.419566800Z"
    }
   }
  },
  {
   "cell_type": "markdown",
   "source": [
    "### Симплекс-метод: пример 1\n",
    "![7 пример](screenshots/7.png \"7 пример\") ![7 пример сравнение](screenshots/7a.png \"7 пример сравнение\")"
   ],
   "metadata": {
    "collapsed": false
   }
  },
  {
   "cell_type": "code",
   "execution_count": 25,
   "outputs": [
    {
     "name": "stdout",
     "output_type": "stream",
     "text": [
      "Базис\tx1\t\tx2\t\tx3\t\tx4\t\tx5\t\tx6\t\tB\n",
      "x3\t\t-4,00\t-6,00\t1,00\t0,00\t0,00\t0,00\t-20,00\t\n",
      "x4\t\t-2,00\t5,00\t0,00\t1,00\t0,00\t0,00\t27,00\t\n",
      "x5\t\t7,00\t5,00\t0,00\t0,00\t1,00\t0,00\t63,00\t\n",
      "x6\t\t3,00\t-2,00\t0,00\t0,00\t0,00\t1,00\t23,00\t\n",
      "F\t\t-2,00\t-1,00\t0,00\t0,00\t0,00\t0,00\t0,00\t\n",
      "В таблице есть отрицательные свободные коэффициенты\n",
      "Разрещающий элемент: [1][0]\r\n",
      "Базис\tx1\t\tx2\t\tx3\t\tx4\t\tx5\t\tx6\t\tB\n",
      "x2\t\t0,67\t1,00\t-0,17\t-0,00\t-0,00\t-0,00\t3,33\t\n",
      "x4\t\t-5,33\t0,00\t0,83\t1,00\t0,00\t0,00\t10,33\t\n",
      "x5\t\t3,67\t0,00\t0,83\t0,00\t1,00\t0,00\t46,33\t\n",
      "x6\t\t4,33\t0,00\t-0,33\t0,00\t0,00\t1,00\t29,67\t\n",
      "F\t\t-1,33\t0,00\t-0,17\t0,00\t0,00\t0,00\t3,33\t\n",
      "Решение не оптимальное\n",
      "Разрещающий элемент: [0][0]\r\n",
      "Базис\tx1\t\tx2\t\tx3\t\tx4\t\tx5\t\tx6\t\tB\n",
      "x1\t\t1,00\t1,50\t-0,25\t-0,00\t-0,00\t-0,00\t5,00\t\n",
      "x4\t\t0,00\t8,00\t-0,50\t1,00\t0,00\t0,00\t37,00\t\n",
      "x5\t\t0,00\t-5,50\t1,75\t0,00\t1,00\t0,00\t28,00\t\n",
      "x6\t\t0,00\t-6,50\t0,75\t0,00\t0,00\t1,00\t8,00\t\n",
      "F\t\t0,00\t2,00\t-0,50\t0,00\t0,00\t0,00\t10,00\t\n",
      "Решение не оптимальное\n",
      "Разрещающий элемент: [2][3]\r\n",
      "Базис\tx1\t\tx2\t\tx3\t\tx4\t\tx5\t\tx6\t\tB\n",
      "x1\t\t1,00\t-0,67\t0,00\t0,00\t0,00\t0,33\t7,67\t\n",
      "x4\t\t0,00\t3,67\t0,00\t1,00\t0,00\t0,67\t42,33\t\n",
      "x5\t\t0,00\t9,67\t0,00\t0,00\t1,00\t-2,33\t9,33\t\n",
      "x3\t\t0,00\t-8,67\t1,00\t0,00\t0,00\t1,33\t10,67\t\n",
      "F\t\t0,00\t-2,33\t0,00\t0,00\t0,00\t0,67\t15,33\t\n",
      "Решение не оптимальное\n",
      "Разрещающий элемент: [1][2]\r\n",
      "Базис\tx1\t\tx2\t\tx3\t\tx4\t\tx5\t\tx6\t\tB\n",
      "x1\t\t1,00\t0,00\t0,00\t0,00\t0,07\t0,17\t8,31\t\n",
      "x4\t\t0,00\t0,00\t0,00\t1,00\t-0,38\t1,55\t38,79\t\n",
      "x2\t\t0,00\t1,00\t0,00\t0,00\t0,10\t-0,24\t0,97\t\n",
      "x3\t\t0,00\t0,00\t1,00\t0,00\t0,90\t-0,76\t19,03\t\n",
      "F\t\t0,00\t0,00\t0,00\t0,00\t0,24\t0,10\t17,59\t\n",
      "Решение оптимальное\n",
      "x1 = 8,31\tx2 = 0,97\t\n",
      "17,59\r\n"
     ]
    }
   ],
   "source": [
    "runBlocking {\n",
    "    val objectiveFunction = ObjectiveFunction(listOf(2.0, 1.0), Goal.MAX)\n",
    "    val constraints = listOf(\n",
    "        Constraint(listOf(4.0, 6.0), Sign.GE, 20.0),\n",
    "        Constraint(listOf(2.0, -5.0), Sign.GE, -27.0),\n",
    "        Constraint(listOf(7.0, 5.0), Sign.LE, 63.0),\n",
    "        Constraint(listOf(3.0, -2.0), Sign.LE, 23.0)\n",
    "    )\n",
    "    val simplex = Simplex(\n",
    "        objectiveFunction = objectiveFunction,\n",
    "        constraints = constraints,\n",
    "        numVars = 2\n",
    "    )\n",
    "    simplexSolve(simplex)\n",
    "}"
   ],
   "metadata": {
    "collapsed": false,
    "ExecuteTime": {
     "end_time": "2024-04-01T18:30:49.084150600Z",
     "start_time": "2024-04-01T18:30:48.749151800Z"
    }
   }
  },
  {
   "cell_type": "markdown",
   "source": [
    "### Симплекс-метод: пример 2\n",
    "![8 пример](screenshots/8.png \"7 пример\") ![8 пример сравнение](screenshots/8a.png \"8 пример сравнение\")"
   ],
   "metadata": {
    "collapsed": false
   }
  },
  {
   "cell_type": "code",
   "execution_count": 26,
   "outputs": [
    {
     "name": "stdout",
     "output_type": "stream",
     "text": [
      "Базис\tx1\t\tx2\t\tx3\t\tx4\t\tx5\t\tx6\t\tB\n",
      "x3\t\t-4,00\t-6,00\t1,00\t0,00\t0,00\t0,00\t-20,00\t\n",
      "x4\t\t-2,00\t5,00\t0,00\t1,00\t0,00\t0,00\t27,00\t\n",
      "x5\t\t7,00\t5,00\t0,00\t0,00\t1,00\t0,00\t63,00\t\n",
      "x6\t\t3,00\t-2,00\t0,00\t0,00\t0,00\t1,00\t23,00\t\n",
      "F\t\t-2,00\t-1,00\t0,00\t0,00\t0,00\t0,00\t0,00\t\n",
      "В таблице есть отрицательные свободные коэффициенты\n",
      "Разрещающий элемент: [1][0]\r\n",
      "Базис\tx1\t\tx2\t\tx3\t\tx4\t\tx5\t\tx6\t\tB\n",
      "x2\t\t0,67\t1,00\t-0,17\t-0,00\t-0,00\t-0,00\t3,33\t\n",
      "x4\t\t-5,33\t0,00\t0,83\t1,00\t0,00\t0,00\t10,33\t\n",
      "x5\t\t3,67\t0,00\t0,83\t0,00\t1,00\t0,00\t46,33\t\n",
      "x6\t\t4,33\t0,00\t-0,33\t0,00\t0,00\t1,00\t29,67\t\n",
      "F\t\t-1,33\t0,00\t-0,17\t0,00\t0,00\t0,00\t3,33\t\n",
      "Решение оптимальное\n",
      "x1 = 0,00\tx2 = 3,33\t\n",
      "3,33\r\n"
     ]
    }
   ],
   "source": [
    "runBlocking {\n",
    "    val objectiveFunction = ObjectiveFunction(listOf(2.0, 1.0), Goal.MIN)\n",
    "    val constraints = listOf(\n",
    "        Constraint(listOf(4.0, 6.0), Sign.GE, 20.0),\n",
    "        Constraint(listOf(2.0, -5.0), Sign.GE, -27.0),\n",
    "        Constraint(listOf(7.0, 5.0), Sign.LE, 63.0),\n",
    "        Constraint(listOf(3.0, -2.0), Sign.LE, 23.0)\n",
    "    )\n",
    "    val simplex = Simplex(\n",
    "        objectiveFunction = objectiveFunction,\n",
    "        constraints = constraints,\n",
    "        numVars = 2\n",
    "    )\n",
    "    simplexSolve(simplex)\n",
    "}"
   ],
   "metadata": {
    "collapsed": false,
    "ExecuteTime": {
     "end_time": "2024-04-01T18:30:50.494738500Z",
     "start_time": "2024-04-01T18:30:50.243738800Z"
    }
   }
  },
  {
   "cell_type": "code",
   "execution_count": null,
   "outputs": [],
   "source": [],
   "metadata": {
    "collapsed": false
   }
  }
 ],
 "metadata": {
  "kernelspec": {
   "display_name": "Kotlin",
   "language": "kotlin",
   "name": "kotlin"
  },
  "language_info": {
   "name": "kotlin",
   "version": "1.9.0",
   "mimetype": "text/x-kotlin",
   "file_extension": ".kt",
   "pygments_lexer": "kotlin",
   "codemirror_mode": "text/x-kotlin",
   "nbconvert_exporter": ""
  }
 },
 "nbformat": 4,
 "nbformat_minor": 0
}
